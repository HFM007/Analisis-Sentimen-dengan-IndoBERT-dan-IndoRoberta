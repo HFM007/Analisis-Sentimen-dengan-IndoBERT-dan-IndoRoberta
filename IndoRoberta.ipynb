{
 "cells": [
  {
   "cell_type": "markdown",
   "id": "d7ae3eee",
   "metadata": {},
   "source": [
    "Langkah 1 Import Library"
   ]
  },
  {
   "cell_type": "code",
   "execution_count": null,
   "id": "3c8a6cf0",
   "metadata": {},
   "outputs": [],
   "source": [
    "import pandas as pd\n",
    "from transformers import  AutoTokenizer, AutoModelForSequenceClassification\n",
    "import torch\n",
    "import torch.nn.functional as F\n",
    "from tqdm import tqdm\n",
    "from sklearn.model_selection import train_test_split"
   ]
  },
  {
   "cell_type": "markdown",
   "id": "9dfa616f",
   "metadata": {},
   "source": [
    "Langkah 2 Masukan dataset dan cek dataset, serta merubah string ke integer pada kolom labeling"
   ]
  },
  {
   "cell_type": "code",
   "execution_count": null,
   "id": "77d37bb4",
   "metadata": {},
   "outputs": [],
   "source": [
    "# df_labeled = pd.read_csv('ada labelnya - Sheet1.csv')\n",
    "# df_unlabeled = pd.read_csv('gaada labelnya - Sheet1.csv')\n",
    "\n",
    "# df_unlabeled = df_unlabeled.rename(columns={\"Data Komentar TIKTOK\": \"text\"})\n",
    "\n",
    "# df_labeled[\"Labeling\"] = df_labeled[\"Labeling\"].str.lower().map({\"netral\": 0, \"negatif\": 1, \"positif\": 2})\n",
    "\n",
    "# print(\"Dataset Labeled:\")\n",
    "# df_labeled.head()\n",
    "\n",
    "df_train = pd.read_csv(\"ada labelnya - Sheet1.csv\")\n",
    "df_train = df_train.rename(columns={\"Data Komentar TIKTOK\": \"text\", \"Labeling\": \"label\"})\n",
    "label_map = {\"negatif\": 0, \"netral\": 1, \"positif\": 2}\n",
    "df_train = df_train[df_train[\"label\"].isin(label_map.keys())]\n",
    "df_train[\"label\"] = df_train[\"label\"].map(label_map)"
   ]
  },
  {
   "cell_type": "code",
   "execution_count": null,
   "id": "d0fdfe33",
   "metadata": {},
   "outputs": [],
   "source": [
    "# print(\"Dataset Unlabeled:\")\n",
    "# df_unlabeled.head()\n",
    "\n",
    "df_test = pd.read_csv(\"gaada labelnya - Sheet1.csv\")\n",
    "df_test = df_test.rename(columns={\"Data Komentar TIKTOK\": \"text\"})"
   ]
  },
  {
   "cell_type": "markdown",
   "id": "8f303621",
   "metadata": {},
   "source": [
    "Langkah 3 Load model sentimen IndoRoBERTa yang sudah di-finetune"
   ]
  },
  {
   "cell_type": "code",
   "execution_count": 33,
   "id": "f860a0de",
   "metadata": {},
   "outputs": [
    {
     "name": "stderr",
     "output_type": "stream",
     "text": [
      "/Users/habibfauzanmahardika/Library/Python/3.9/lib/python/site-packages/huggingface_hub/file_download.py:896: FutureWarning: `resume_download` is deprecated and will be removed in version 1.0.0. Downloads always resume when possible. If you want to force a new download, use `force_download=True`.\n",
      "  warnings.warn(\n",
      "Some weights of the model checkpoint at cahya/roberta-base-indonesian-522M were not used when initializing RobertaForSequenceClassification: ['roberta.pooler.dense.weight', 'lm_head.dense.weight', 'lm_head.bias', 'lm_head.layer_norm.weight', 'lm_head.decoder.bias', 'lm_head.dense.bias', 'lm_head.layer_norm.bias', 'roberta.pooler.dense.bias', 'lm_head.decoder.weight']\n",
      "- This IS expected if you are initializing RobertaForSequenceClassification from the checkpoint of a model trained on another task or with another architecture (e.g. initializing a BertForSequenceClassification model from a BertForPreTraining model).\n",
      "- This IS NOT expected if you are initializing RobertaForSequenceClassification from the checkpoint of a model that you expect to be exactly identical (initializing a BertForSequenceClassification model from a BertForSequenceClassification model).\n",
      "Some weights of RobertaForSequenceClassification were not initialized from the model checkpoint at cahya/roberta-base-indonesian-522M and are newly initialized: ['classifier.dense.weight', 'classifier.out_proj.bias', 'classifier.dense.bias', 'classifier.out_proj.weight']\n",
      "You should probably TRAIN this model on a down-stream task to be able to use it for predictions and inference.\n"
     ]
    },
    {
     "data": {
      "text/plain": [
       "RobertaForSequenceClassification(\n",
       "  (roberta): RobertaModel(\n",
       "    (embeddings): RobertaEmbeddings(\n",
       "      (word_embeddings): Embedding(52000, 768, padding_idx=1)\n",
       "      (position_embeddings): Embedding(514, 768, padding_idx=1)\n",
       "      (token_type_embeddings): Embedding(1, 768)\n",
       "      (LayerNorm): LayerNorm((768,), eps=1e-05, elementwise_affine=True)\n",
       "      (dropout): Dropout(p=0.1, inplace=False)\n",
       "    )\n",
       "    (encoder): RobertaEncoder(\n",
       "      (layer): ModuleList(\n",
       "        (0-11): 12 x RobertaLayer(\n",
       "          (attention): RobertaAttention(\n",
       "            (self): RobertaSelfAttention(\n",
       "              (query): Linear(in_features=768, out_features=768, bias=True)\n",
       "              (key): Linear(in_features=768, out_features=768, bias=True)\n",
       "              (value): Linear(in_features=768, out_features=768, bias=True)\n",
       "              (dropout): Dropout(p=0.1, inplace=False)\n",
       "            )\n",
       "            (output): RobertaSelfOutput(\n",
       "              (dense): Linear(in_features=768, out_features=768, bias=True)\n",
       "              (LayerNorm): LayerNorm((768,), eps=1e-05, elementwise_affine=True)\n",
       "              (dropout): Dropout(p=0.1, inplace=False)\n",
       "            )\n",
       "          )\n",
       "          (intermediate): RobertaIntermediate(\n",
       "            (dense): Linear(in_features=768, out_features=3072, bias=True)\n",
       "            (intermediate_act_fn): GELUActivation()\n",
       "          )\n",
       "          (output): RobertaOutput(\n",
       "            (dense): Linear(in_features=3072, out_features=768, bias=True)\n",
       "            (LayerNorm): LayerNorm((768,), eps=1e-05, elementwise_affine=True)\n",
       "            (dropout): Dropout(p=0.1, inplace=False)\n",
       "          )\n",
       "        )\n",
       "      )\n",
       "    )\n",
       "  )\n",
       "  (classifier): RobertaClassificationHead(\n",
       "    (dense): Linear(in_features=768, out_features=768, bias=True)\n",
       "    (dropout): Dropout(p=0.1, inplace=False)\n",
       "    (out_proj): Linear(in_features=768, out_features=2, bias=True)\n",
       "  )\n",
       ")"
      ]
     },
     "execution_count": 33,
     "metadata": {},
     "output_type": "execute_result"
    }
   ],
   "source": [
    "model_name = \"cahya/roberta-base-indonesian-522M\"\n",
    "tokenizer = AutoTokenizer.from_pretrained(model_name)\n",
    "model = AutoModelForSequenceClassification.from_pretrained(model_name)\n",
    "model.eval()"
   ]
  },
  {
   "cell_type": "markdown",
   "id": "c7addcc4",
   "metadata": {},
   "source": [
    "Langkah 4 Mapping label"
   ]
  },
  {
   "cell_type": "code",
   "execution_count": 34,
   "id": "8299c7d0",
   "metadata": {},
   "outputs": [],
   "source": [
    "label_map = {0: \"netral\", 1: \"negatif\", 2: \"positif\"}\n",
    "text_column = \"Labeling\""
   ]
  },
  {
   "cell_type": "markdown",
   "id": "9b4e7f46",
   "metadata": {},
   "source": [
    "Langkah 5 Membuat fungsi prediksi"
   ]
  },
  {
   "cell_type": "code",
   "execution_count": 35,
   "id": "64edb3ed",
   "metadata": {},
   "outputs": [],
   "source": [
    "def predict_sentiment(text):\n",
    "    inputs = tokenizer(text, return_tensors=\"pt\", truncation=True, padding=True)\n",
    "    with torch.no_grad():\n",
    "        outputs = model(**inputs)\n",
    "        probs = F.softmax(outputs.logits, dim=1)\n",
    "        pred_label = torch.argmax(probs, dim=1).item()\n",
    "        confidence = probs[0][pred_label].item()\n",
    "    return label_map[pred_label], confidence"
   ]
  },
  {
   "cell_type": "markdown",
   "id": "f1ff96ff",
   "metadata": {},
   "source": [
    "Langkah 6 Prediksi seluruh dataset"
   ]
  },
  {
   "cell_type": "code",
   "execution_count": 36,
   "id": "c39a4fd8",
   "metadata": {},
   "outputs": [
    {
     "name": "stderr",
     "output_type": "stream",
     "text": [
      "  0%|          | 0/300 [00:00<?, ?it/s]Asking to truncate to max_length but no maximum length is provided and the model has no predefined maximum length. Default to no truncation.\n",
      "100%|██████████| 300/300 [00:09<00:00, 32.11it/s]\n"
     ]
    }
   ],
   "source": [
    "sentiments = []\n",
    "confidences = []\n",
    "\n",
    "for text in tqdm(df_unlabeled[\"text\"]):\n",
    "    label, conf = predict_sentiment(str(text))\n",
    "    sentiments.append(label)\n",
    "    confidences.append(conf)"
   ]
  },
  {
   "cell_type": "markdown",
   "id": "8875d5fe",
   "metadata": {},
   "source": [
    "Langkah 7 Tambahkan hasil ke dataframe"
   ]
  },
  {
   "cell_type": "code",
   "execution_count": 37,
   "id": "eea03706",
   "metadata": {},
   "outputs": [],
   "source": [
    "df_unlabeled[\"predicted_sentiment\"] = sentiments\n",
    "df_unlabeled[\"confidence\"] = confidences"
   ]
  },
  {
   "cell_type": "markdown",
   "id": "b12154c3",
   "metadata": {},
   "source": [
    "Langkah 8 Simpan hasil sentimen ke file excel baru"
   ]
  },
  {
   "cell_type": "code",
   "execution_count": 38,
   "id": "21d21ed3",
   "metadata": {},
   "outputs": [
    {
     "name": "stdout",
     "output_type": "stream",
     "text": [
      "Hasil disimpan di: hasil_sentimen_unlabeled.csv\n"
     ]
    }
   ],
   "source": [
    "output_path = \"hasil_sentimen_unlabeled.csv\"\n",
    "df_unlabeled.to_csv(output_path, index=False)\n",
    "\n",
    "print(f\"Hasil disimpan di: {output_path}\")"
   ]
  }
 ],
 "metadata": {
  "kernelspec": {
   "display_name": "Python 3",
   "language": "python",
   "name": "python3"
  },
  "language_info": {
   "codemirror_mode": {
    "name": "ipython",
    "version": 3
   },
   "file_extension": ".py",
   "mimetype": "text/x-python",
   "name": "python",
   "nbconvert_exporter": "python",
   "pygments_lexer": "ipython3",
   "version": "3.9.6"
  }
 },
 "nbformat": 4,
 "nbformat_minor": 5
}
